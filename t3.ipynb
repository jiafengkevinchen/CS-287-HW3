{
 "cells": [
  {
   "cell_type": "code",
   "execution_count": 7,
   "metadata": {},
   "outputs": [],
   "source": [
    "from torchtext import datasets"
   ]
  },
  {
   "cell_type": "code",
   "execution_count": null,
   "metadata": {},
   "outputs": [],
   "source": [
    "datasets.IWSLT"
   ]
  },
  {
   "cell_type": "code",
   "execution_count": 1,
   "metadata": {},
   "outputs": [
    {
     "name": "stderr",
     "output_type": "stream",
     "text": [
      "ERROR:root:File `'models/biseq2seq.pyseq2seq.py'` not found.\n"
     ]
    }
   ],
   "source": [
    "%run models/lstm_decoder.py\n",
    "%run models/lstm_encoder.py\n",
    "%run models/seq2seq.py\n",
    "%run models/utils.py\n",
    "%run models/feedforward.py\n",
    "%run models/feedforward.py\n",
    "%run models/feedforward.py\n",
    "%run models/feedforward.py"
   ]
  },
  {
   "cell_type": "code",
   "execution_count": null,
   "metadata": {},
   "outputs": [],
   "source": [
    "%run models/lstm_decoder.py\n",
    "%run models/lstm_encoder.py\n",
    "%run models/seq2seq.py\n",
    "%run models/biseq2seq.py\n",
    "%run models/utils.py"
   ]
  },
  {
   "cell_type": "code",
   "execution_count": null,
   "metadata": {},
   "outputs": [],
   "source": [
    "encoder = LSTMEncoder(DE, 100, 100).to(device)\n",
    "encoder = LSTMEncoder(DE, 100, 100).to(device)\n",
    "decoder = LSTMDecoder(EN, 200, 200).to(device)\n",
    "seq2seq = Seq(encoder, decoder)\n",
    "\n",
    "ce_loss = nnn.CrossEntropyLoss().spec(\"classes\")\n",
    "\n",
    "def seq2seq_loss_fn(model, batch):\n",
    "    out = model(batch.src, batch.trg)\n",
    "    length = batch.trg.size('trgSeqlen')\n",
    "    return ce_loss(out[{'trgSeqlen': slice(0, length-1)}], \n",
    "                   batch.trg[{'trgSeqlen': slice(1, length)}])"
   ]
  }
 ],
 "metadata": {
  "kernelspec": {
   "display_name": "Python 3",
   "language": "python",
   "name": "python3"
  },
  "language_info": {
   "codemirror_mode": {
    "name": "ipython",
    "version": 3
   },
   "file_extension": ".py",
   "mimetype": "text/x-python",
   "name": "python",
   "nbconvert_exporter": "python",
   "pygments_lexer": "ipython3",
   "version": "3.6.6"
  }
 },
 "nbformat": 4,
 "nbformat_minor": 2
}
