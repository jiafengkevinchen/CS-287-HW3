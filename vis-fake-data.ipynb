{
 "cells": [
  {
   "cell_type": "code",
   "execution_count": 2,
   "metadata": {},
   "outputs": [],
   "source": [
    "import json"
   ]
  },
  {
   "cell_type": "code",
   "execution_count": 9,
   "metadata": {},
   "outputs": [],
   "source": [
    "# each 0th row of the attn matrix represents the weights for the first translated word\n",
    "# row sums should be 1\n",
    "\n",
    "vis_struct = {\n",
    "    'source': ['the', 'house', 'is', 'dark'],\n",
    "    'translated': ['la', 'casa', 'esta', 'oscura'],\n",
    "    'attn': [\n",
    "        [0.8, .2, 0, 0],\n",
    "        [0.1, .7, .1, .1],\n",
    "        [0, .2, .8, 0],\n",
    "        [0, 0, 0, 1]\n",
    "    ]\n",
    "}"
   ]
  },
  {
   "cell_type": "code",
   "execution_count": 10,
   "metadata": {},
   "outputs": [
    {
     "data": {
      "text/plain": [
       "{'attn': [[0.8, 0.2, 0, 0],\n",
       "  [0.1, 0.7, 0.1, 0.1],\n",
       "  [0, 0.2, 0.8, 0],\n",
       "  [0, 0, 0, 1]],\n",
       " 'source': ['the', 'house', 'is', 'dark'],\n",
       " 'translated': ['la', 'casa', 'esta', 'oscura']}"
      ]
     },
     "execution_count": 10,
     "metadata": {},
     "output_type": "execute_result"
    }
   ],
   "source": [
    "vis_struct"
   ]
  },
  {
   "cell_type": "code",
   "execution_count": 11,
   "metadata": {},
   "outputs": [],
   "source": [
    "with open('vis/data.json', 'w') as f:\n",
    "    json.dump(vis_struct, f)"
   ]
  },
  {
   "cell_type": "code",
   "execution_count": null,
   "metadata": {},
   "outputs": [],
   "source": []
  }
 ],
 "metadata": {
  "kernelspec": {
   "display_name": "Python 3",
   "language": "python",
   "name": "python3"
  },
  "language_info": {
   "codemirror_mode": {
    "name": "ipython",
    "version": 3
   },
   "file_extension": ".py",
   "mimetype": "text/x-python",
   "name": "python",
   "nbconvert_exporter": "python",
   "pygments_lexer": "ipython3",
   "version": "3.6.1"
  }
 },
 "nbformat": 4,
 "nbformat_minor": 2
}
